{
  "cells": [
    {
      "cell_type": "markdown",
      "metadata": {
        "id": "xpAuMVCwfWs8"
      },
      "source": [
        "# Recurrent Neural Network"
      ]
    },
    {
      "cell_type": "markdown",
      "metadata": {
        "id": "nxJfRe4bfYVA"
      },
      "source": [
        "## Part 1 - Data Preprocessing"
      ]
    },
    {
      "cell_type": "markdown",
      "metadata": {
        "id": "ir9zwETrfbrp"
      },
      "source": [
        "### Importing the libraries"
      ]
    },
    {
      "cell_type": "code",
      "execution_count": 1,
      "metadata": {
        "id": "n5uOj7k1Mklj"
      },
      "outputs": [],
      "source": [
        "import numpy as np\n",
        "import matplotlib.pyplot as plt\n",
        "import pandas as pd"
      ]
    },
    {
      "cell_type": "markdown",
      "metadata": {
        "id": "nQ47JAxrgmaL"
      },
      "source": [
        "### Importing the training set"
      ]
    },
    {
      "cell_type": "code",
      "execution_count": 2,
      "metadata": {
        "id": "ckCEZaMtM3Bd"
      },
      "outputs": [],
      "source": [
        "dataset_train = pd.read_csv('Google_Stock_Price_Train.csv')\n",
        "training_set = dataset_train.iloc[:,1:2].values"
      ]
    },
    {
      "cell_type": "markdown",
      "metadata": {
        "id": "HT8_2UJegtG5"
      },
      "source": [
        "### Feature Scaling"
      ]
    },
    {
      "cell_type": "code",
      "execution_count": 3,
      "metadata": {
        "id": "p4-yOB8lZ6Gl"
      },
      "outputs": [],
      "source": [
        "from sklearn.preprocessing import MinMaxScaler\n",
        "sc = MinMaxScaler(feature_range=(0,1))\n",
        "training_set_scaled = sc.fit_transform(training_set)"
      ]
    },
    {
      "cell_type": "markdown",
      "metadata": {
        "id": "JyYgYocqhNUg"
      },
      "source": [
        "### Creating a data structure with 60 timesteps and 1 output"
      ]
    },
    {
      "cell_type": "code",
      "execution_count": 4,
      "metadata": {
        "id": "b-Vm3ESfcL38"
      },
      "outputs": [],
      "source": [
        "time_steps = 60\n",
        "starting_row = 60\n",
        "ending_row = 1258\n",
        "x_train = []\n",
        "y_train = []\n",
        "for i in range(starting_row, ending_row):\n",
        "  x_train.append(training_set_scaled[i - time_steps : i, 0])\n",
        "  y_train.append(training_set_scaled[i, 0])\n",
        "\n",
        "x_train, y_train = np.array(x_train), np.array(y_train)"
      ]
    },
    {
      "cell_type": "markdown",
      "metadata": {
        "id": "D8yaN7Zvi95l"
      },
      "source": [
        "### Reshaping"
      ]
    },
    {
      "cell_type": "code",
      "execution_count": 5,
      "metadata": {
        "id": "2d_rvd-306dT"
      },
      "outputs": [],
      "source": [
        "x_train = np.reshape(x_train, (x_train.shape[0] ,x_train.shape[1], 1))"
      ]
    },
    {
      "cell_type": "markdown",
      "metadata": {
        "id": "ZRRSOJeVjEWV"
      },
      "source": [
        "## Part 2 - Building and Training the RNN"
      ]
    },
    {
      "cell_type": "markdown",
      "metadata": {
        "id": "k4XV88JMjHXG"
      },
      "source": [
        "### Importing the Keras libraries and packages"
      ]
    },
    {
      "cell_type": "code",
      "execution_count": 6,
      "metadata": {
        "id": "DgwLSdda3j7r"
      },
      "outputs": [],
      "source": [
        "from keras.models import Sequential\n",
        "from keras.layers import Dense\n",
        "from keras.layers import LSTM\n",
        "from keras.layers import Dropout"
      ]
    },
    {
      "cell_type": "markdown",
      "metadata": {
        "id": "FEIE-1s9jNzC"
      },
      "source": [
        "### Initialising the RNN"
      ]
    },
    {
      "cell_type": "code",
      "execution_count": 7,
      "metadata": {
        "id": "SM8KgfzG3vvf"
      },
      "outputs": [],
      "source": [
        "regressor = Sequential()"
      ]
    },
    {
      "cell_type": "markdown",
      "metadata": {
        "id": "62eg1OPGjT8z"
      },
      "source": [
        "### Adding the first LSTM layer and some Dropout regularisation"
      ]
    },
    {
      "cell_type": "code",
      "execution_count": 8,
      "metadata": {
        "id": "kLn0r_L44Ms5"
      },
      "outputs": [],
      "source": [
        "regressor.add(LSTM(units = 50, return_sequences = True, input_shape = (x_train.shape[1], 1)))\n",
        "regressor.add(Dropout(0.2))"
      ]
    },
    {
      "cell_type": "markdown",
      "metadata": {
        "id": "3XBIYLyOjlMx"
      },
      "source": [
        "\n",
        "### Adding a second LSTM layer and some Dropout regularisation"
      ]
    },
    {
      "cell_type": "code",
      "execution_count": 9,
      "metadata": {
        "id": "1ZEtuIJW6UyY"
      },
      "outputs": [],
      "source": [
        "regressor.add(LSTM(units = 50, return_sequences = True))\n",
        "regressor.add(Dropout(0.2))"
      ]
    },
    {
      "cell_type": "markdown",
      "metadata": {
        "id": "Ey3fHVnGj1cu"
      },
      "source": [
        "### Adding a third LSTM layer and some Dropout regularisation"
      ]
    },
    {
      "cell_type": "code",
      "execution_count": 10,
      "metadata": {
        "id": "OnYPE1_36VS0"
      },
      "outputs": [],
      "source": [
        "regressor.add(LSTM(units = 50, return_sequences = True))\n",
        "regressor.add(Dropout(0.2))"
      ]
    },
    {
      "cell_type": "markdown",
      "metadata": {
        "id": "SYTrtfTmj933"
      },
      "source": [
        "### Adding a fourth LSTM layer and some Dropout regularisation"
      ]
    },
    {
      "cell_type": "code",
      "execution_count": 11,
      "metadata": {
        "id": "yIWpIaxH6V63"
      },
      "outputs": [],
      "source": [
        "regressor.add(LSTM(units = 50))\n",
        "regressor.add(Dropout(0.2))"
      ]
    },
    {
      "cell_type": "markdown",
      "metadata": {
        "id": "9ABI6rOIkHhk"
      },
      "source": [
        "### Adding the output layer"
      ]
    },
    {
      "cell_type": "code",
      "execution_count": 12,
      "metadata": {
        "id": "BFpDoylx6Wcn"
      },
      "outputs": [],
      "source": [
        "regressor.add(Dense(units = 1))"
      ]
    },
    {
      "cell_type": "markdown",
      "metadata": {
        "id": "zLx4K7uUkPSh"
      },
      "source": [
        "### Compiling the RNN"
      ]
    },
    {
      "cell_type": "code",
      "execution_count": 13,
      "metadata": {
        "id": "m5BVKE966W-g"
      },
      "outputs": [],
      "source": [
        "regressor.compile(optimizer = 'adam', loss = 'mean_squared_error')"
      ]
    },
    {
      "cell_type": "markdown",
      "metadata": {
        "id": "-mPhwKGkkebi"
      },
      "source": [
        "### Fitting the RNN to the Training set"
      ]
    },
    {
      "cell_type": "code",
      "execution_count": 14,
      "metadata": {
        "colab": {
          "base_uri": "https://localhost:8080/"
        },
        "id": "YwGruqzv6Xce",
        "outputId": "18adc2df-9e6f-47c1-a10b-f9bfbb77c8df"
      },
      "outputs": [
        {
          "name": "stdout",
          "output_type": "stream",
          "text": [
            "Epoch 1/100\n",
            "38/38 [==============================] - 12s 108ms/step - loss: 0.0352\n",
            "Epoch 2/100\n",
            "38/38 [==============================] - 4s 104ms/step - loss: 0.0065\n",
            "Epoch 3/100\n",
            "38/38 [==============================] - 5s 131ms/step - loss: 0.0059\n",
            "Epoch 4/100\n",
            "38/38 [==============================] - 4s 104ms/step - loss: 0.0048\n",
            "Epoch 5/100\n",
            "38/38 [==============================] - 4s 103ms/step - loss: 0.0052\n",
            "Epoch 6/100\n",
            "38/38 [==============================] - 5s 130ms/step - loss: 0.0049\n",
            "Epoch 7/100\n",
            "38/38 [==============================] - 4s 102ms/step - loss: 0.0044\n",
            "Epoch 8/100\n",
            "38/38 [==============================] - 4s 106ms/step - loss: 0.0051\n",
            "Epoch 9/100\n",
            "38/38 [==============================] - 5s 134ms/step - loss: 0.0046\n",
            "Epoch 10/100\n",
            "38/38 [==============================] - 4s 107ms/step - loss: 0.0041\n",
            "Epoch 11/100\n",
            "38/38 [==============================] - 5s 136ms/step - loss: 0.0043\n",
            "Epoch 12/100\n",
            "38/38 [==============================] - 7s 195ms/step - loss: 0.0047\n",
            "Epoch 13/100\n",
            "38/38 [==============================] - 4s 102ms/step - loss: 0.0040\n",
            "Epoch 14/100\n",
            "38/38 [==============================] - 4s 113ms/step - loss: 0.0041\n",
            "Epoch 15/100\n",
            "38/38 [==============================] - 5s 120ms/step - loss: 0.0039\n",
            "Epoch 16/100\n",
            "38/38 [==============================] - 4s 98ms/step - loss: 0.0039\n",
            "Epoch 17/100\n",
            "38/38 [==============================] - 4s 111ms/step - loss: 0.0036\n",
            "Epoch 18/100\n",
            "38/38 [==============================] - 4s 115ms/step - loss: 0.0034\n",
            "Epoch 19/100\n",
            "38/38 [==============================] - 4s 106ms/step - loss: 0.0034\n",
            "Epoch 20/100\n",
            "38/38 [==============================] - 4s 114ms/step - loss: 0.0036\n",
            "Epoch 21/100\n",
            "38/38 [==============================] - 5s 118ms/step - loss: 0.0035\n",
            "Epoch 22/100\n",
            "38/38 [==============================] - 4s 104ms/step - loss: 0.0033\n",
            "Epoch 23/100\n",
            "38/38 [==============================] - 4s 112ms/step - loss: 0.0039\n",
            "Epoch 24/100\n",
            "38/38 [==============================] - 4s 117ms/step - loss: 0.0034\n",
            "Epoch 25/100\n",
            "38/38 [==============================] - 4s 100ms/step - loss: 0.0032\n",
            "Epoch 26/100\n",
            "38/38 [==============================] - 4s 115ms/step - loss: 0.0028\n",
            "Epoch 27/100\n",
            "38/38 [==============================] - 5s 119ms/step - loss: 0.0029\n",
            "Epoch 28/100\n",
            "38/38 [==============================] - 4s 103ms/step - loss: 0.0031\n",
            "Epoch 29/100\n",
            "38/38 [==============================] - 4s 117ms/step - loss: 0.0030\n",
            "Epoch 30/100\n",
            "38/38 [==============================] - 5s 121ms/step - loss: 0.0029\n",
            "Epoch 31/100\n",
            "38/38 [==============================] - 5s 130ms/step - loss: 0.0029\n",
            "Epoch 32/100\n",
            "38/38 [==============================] - 5s 133ms/step - loss: 0.0027\n",
            "Epoch 33/100\n",
            "38/38 [==============================] - 4s 99ms/step - loss: 0.0027\n",
            "Epoch 34/100\n",
            "38/38 [==============================] - 4s 103ms/step - loss: 0.0029\n",
            "Epoch 35/100\n",
            "38/38 [==============================] - 5s 131ms/step - loss: 0.0030\n",
            "Epoch 36/100\n",
            "38/38 [==============================] - 4s 104ms/step - loss: 0.0026\n",
            "Epoch 37/100\n",
            "38/38 [==============================] - 4s 107ms/step - loss: 0.0024\n",
            "Epoch 38/100\n",
            "38/38 [==============================] - 5s 137ms/step - loss: 0.0027\n",
            "Epoch 39/100\n",
            "38/38 [==============================] - 4s 106ms/step - loss: 0.0029\n",
            "Epoch 40/100\n",
            "38/38 [==============================] - 4s 103ms/step - loss: 0.0026\n",
            "Epoch 41/100\n",
            "38/38 [==============================] - 5s 136ms/step - loss: 0.0025\n",
            "Epoch 42/100\n",
            "38/38 [==============================] - 4s 100ms/step - loss: 0.0024\n",
            "Epoch 43/100\n",
            "38/38 [==============================] - 4s 99ms/step - loss: 0.0024\n",
            "Epoch 44/100\n",
            "38/38 [==============================] - 5s 134ms/step - loss: 0.0025\n",
            "Epoch 45/100\n",
            "38/38 [==============================] - 4s 102ms/step - loss: 0.0024\n",
            "Epoch 46/100\n",
            "38/38 [==============================] - 4s 106ms/step - loss: 0.0026\n",
            "Epoch 47/100\n",
            "38/38 [==============================] - 5s 133ms/step - loss: 0.0024\n",
            "Epoch 48/100\n",
            "38/38 [==============================] - 4s 102ms/step - loss: 0.0024\n",
            "Epoch 49/100\n",
            "38/38 [==============================] - 4s 100ms/step - loss: 0.0021\n",
            "Epoch 50/100\n",
            "38/38 [==============================] - 5s 134ms/step - loss: 0.0024\n",
            "Epoch 51/100\n",
            "38/38 [==============================] - 4s 100ms/step - loss: 0.0029\n",
            "Epoch 52/100\n",
            "38/38 [==============================] - 4s 100ms/step - loss: 0.0022\n",
            "Epoch 53/100\n",
            "38/38 [==============================] - 5s 131ms/step - loss: 0.0022\n",
            "Epoch 54/100\n",
            "38/38 [==============================] - 4s 101ms/step - loss: 0.0020\n",
            "Epoch 55/100\n",
            "38/38 [==============================] - 4s 103ms/step - loss: 0.0023\n",
            "Epoch 56/100\n",
            "38/38 [==============================] - 5s 135ms/step - loss: 0.0021\n",
            "Epoch 57/100\n",
            "38/38 [==============================] - 4s 99ms/step - loss: 0.0019\n",
            "Epoch 58/100\n",
            "38/38 [==============================] - 4s 104ms/step - loss: 0.0019\n",
            "Epoch 59/100\n",
            "38/38 [==============================] - 5s 129ms/step - loss: 0.0022\n",
            "Epoch 60/100\n",
            "38/38 [==============================] - 4s 106ms/step - loss: 0.0020\n",
            "Epoch 61/100\n",
            "38/38 [==============================] - 4s 97ms/step - loss: 0.0019\n",
            "Epoch 62/100\n",
            "38/38 [==============================] - 5s 130ms/step - loss: 0.0019\n",
            "Epoch 63/100\n",
            "38/38 [==============================] - 4s 106ms/step - loss: 0.0019\n",
            "Epoch 64/100\n",
            "38/38 [==============================] - 5s 131ms/step - loss: 0.0018\n",
            "Epoch 65/100\n",
            "38/38 [==============================] - 5s 131ms/step - loss: 0.0018\n",
            "Epoch 66/100\n",
            "38/38 [==============================] - 4s 100ms/step - loss: 0.0018\n",
            "Epoch 67/100\n",
            "38/38 [==============================] - 4s 104ms/step - loss: 0.0017\n",
            "Epoch 68/100\n",
            "38/38 [==============================] - 5s 136ms/step - loss: 0.0016\n",
            "Epoch 69/100\n",
            "38/38 [==============================] - 4s 100ms/step - loss: 0.0018\n",
            "Epoch 70/100\n",
            "38/38 [==============================] - 4s 100ms/step - loss: 0.0018\n",
            "Epoch 71/100\n",
            "38/38 [==============================] - 5s 135ms/step - loss: 0.0017\n",
            "Epoch 72/100\n",
            "38/38 [==============================] - 4s 102ms/step - loss: 0.0017\n",
            "Epoch 73/100\n",
            "38/38 [==============================] - 4s 105ms/step - loss: 0.0018\n",
            "Epoch 74/100\n",
            "38/38 [==============================] - 5s 129ms/step - loss: 0.0017\n",
            "Epoch 75/100\n",
            "38/38 [==============================] - 4s 101ms/step - loss: 0.0018\n",
            "Epoch 76/100\n",
            "38/38 [==============================] - 4s 103ms/step - loss: 0.0016\n",
            "Epoch 77/100\n",
            "38/38 [==============================] - 5s 130ms/step - loss: 0.0018\n",
            "Epoch 78/100\n",
            "38/38 [==============================] - 4s 103ms/step - loss: 0.0016\n",
            "Epoch 79/100\n",
            "38/38 [==============================] - 4s 102ms/step - loss: 0.0016\n",
            "Epoch 80/100\n",
            "38/38 [==============================] - 5s 139ms/step - loss: 0.0014\n",
            "Epoch 81/100\n",
            "38/38 [==============================] - 5s 133ms/step - loss: 0.0016\n",
            "Epoch 82/100\n",
            "38/38 [==============================] - 5s 119ms/step - loss: 0.0015\n",
            "Epoch 83/100\n",
            "38/38 [==============================] - 4s 115ms/step - loss: 0.0015\n",
            "Epoch 84/100\n",
            "38/38 [==============================] - 4s 104ms/step - loss: 0.0015\n",
            "Epoch 85/100\n",
            "38/38 [==============================] - 5s 124ms/step - loss: 0.0016\n",
            "Epoch 86/100\n",
            "38/38 [==============================] - 4s 112ms/step - loss: 0.0016\n",
            "Epoch 87/100\n",
            "38/38 [==============================] - 4s 108ms/step - loss: 0.0015\n",
            "Epoch 88/100\n",
            "38/38 [==============================] - 5s 126ms/step - loss: 0.0017\n",
            "Epoch 89/100\n",
            "38/38 [==============================] - 4s 105ms/step - loss: 0.0015\n",
            "Epoch 90/100\n",
            "38/38 [==============================] - 4s 104ms/step - loss: 0.0016\n",
            "Epoch 91/100\n",
            "38/38 [==============================] - 5s 124ms/step - loss: 0.0016\n",
            "Epoch 92/100\n",
            "38/38 [==============================] - 4s 109ms/step - loss: 0.0014\n",
            "Epoch 93/100\n",
            "38/38 [==============================] - 4s 106ms/step - loss: 0.0016\n",
            "Epoch 94/100\n",
            "38/38 [==============================] - 5s 134ms/step - loss: 0.0014\n",
            "Epoch 95/100\n",
            "38/38 [==============================] - 4s 104ms/step - loss: 0.0013\n",
            "Epoch 96/100\n",
            "38/38 [==============================] - 4s 107ms/step - loss: 0.0014\n",
            "Epoch 97/100\n",
            "38/38 [==============================] - 5s 131ms/step - loss: 0.0013\n",
            "Epoch 98/100\n",
            "38/38 [==============================] - 4s 101ms/step - loss: 0.0014\n",
            "Epoch 99/100\n",
            "38/38 [==============================] - 4s 102ms/step - loss: 0.0015\n",
            "Epoch 100/100\n",
            "38/38 [==============================] - 5s 129ms/step - loss: 0.0014\n"
          ]
        },
        {
          "data": {
            "text/plain": [
              "<keras.src.callbacks.History at 0x7be9384093f0>"
            ]
          },
          "execution_count": 14,
          "metadata": {},
          "output_type": "execute_result"
        }
      ],
      "source": [
        "regressor.fit(x_train, y_train, epochs= 100, batch_size=32)"
      ]
    },
    {
      "cell_type": "markdown",
      "metadata": {
        "id": "4hRau_lIkrE8"
      },
      "source": [
        "## Part 3 - Making the predictions and visualising the results"
      ]
    },
    {
      "cell_type": "markdown",
      "metadata": {
        "id": "SgJO6qEDksxD"
      },
      "source": [
        "### Getting the real stock price of 2017"
      ]
    },
    {
      "cell_type": "code",
      "execution_count": 15,
      "metadata": {
        "id": "jGQnCw926YIi"
      },
      "outputs": [],
      "source": [
        "dataset_test = pd.read_csv('Google_Stock_Price_Test.csv')\n",
        "real_stock_price = dataset_test.iloc[:,1:2].values"
      ]
    },
    {
      "cell_type": "markdown",
      "metadata": {
        "id": "GrvrLblxkz42"
      },
      "source": [
        "### Getting the predicted stock price of 2017"
      ]
    },
    {
      "cell_type": "code",
      "execution_count": null,
      "metadata": {
        "id": "WupULMeI6Ylg"
      },
      "outputs": [],
      "source": [
        "dataset_total = pd.concat((dataset_train['Open'], dataset_test['Open']), axis=0)\n",
        "inputs = dataset_total[len(dataset_total) - len(dataset_test)- 60:].values\n",
        "inputs = inputs.reshape(-1,1)\n",
        "inputs = sc.transform(inputs)\n",
        "x_test = []\n",
        "for i in range(starting_row, 80):\n",
        "  x_test.append(inputs[i - time_steps : i, 0])\n",
        "\n",
        "x_test = np.array(x_test)\n",
        "x_test = np.reshape(x_test, (x_test.shape[0] ,x_test.shape[1], 1))\n",
        "predicted_stock_price = regressor.predict(x_test)\n",
        "# reverse the scale\n",
        "predicted_stock_price = sc.inverse_transform(predicted_stock_price)"
      ]
    },
    {
      "cell_type": "markdown",
      "metadata": {
        "id": "iFTNs3YHk6FQ"
      },
      "source": [
        "### Visualising the results"
      ]
    },
    {
      "cell_type": "markdown",
      "metadata": {
        "id": "J-fuxyYMLMcd"
      },
      "source": []
    },
    {
      "cell_type": "code",
      "execution_count": 25,
      "metadata": {
        "colab": {
          "base_uri": "https://localhost:8080/",
          "height": 472
        },
        "id": "2OCXWqZ46ZHy",
        "outputId": "b16eab3d-dc6b-415a-f7c3-e62d2bdee7ca"
      },
      "outputs": [
        {
          "data": {
            "image/png": "[encoded data removed]",
            "text/plain": [
              "<Figure size 640x480 with 1 Axes>"
            ]
          },
          "metadata": {},
          "output_type": "display_data"
        }
      ],
      "source": [
        "plt.plot(real_stock_price, color=\"red\", label='Real Google stock price')\n",
        "plt.plot(predicted_stock_price, color=\"teal\", label='Predicted Google stock price')\n",
        "plt.title(\"Google stock price prediction\")\n",
        "plt.xlabel(\"Time\")\n",
        "plt.ylabel(\"Google stock price\")\n",
        "plt.legend()\n",
        "plt.show()"
      ]
    }
  ],
  "metadata": {
    "colab": {
      "provenance": []
    },
    "kernelspec": {
      "display_name": "Python 3",
      "name": "python3"
    }
  },
  "nbformat": 4,
  "nbformat_minor": 0
}
